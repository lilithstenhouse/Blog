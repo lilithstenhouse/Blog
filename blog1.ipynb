{
 "cells": [
  {
   "cell_type": "markdown",
   "metadata": {},
   "source": [
    "\"It is my experience that proofs involving matrices can be shortened by 50% if one throws the matrices out.\" \n",
    "                                             - Emil Artin"
   ]
  },
  {
   "cell_type": "markdown",
   "metadata": {},
   "source": [
    "The fundamental maths behind neural networks seems complicated, especially if you don't have experience with matricies. But don't you worry, I wrote my first neural network from scratch when I was 15, having never seen a matrix before. A significant portion was bodged together so this is for you, 15 year old IDT, and anyone else who wants to understand neural networks using only high school maths.\n",
    "\n",
    "What's my secret, you ask? Throwing out the matricies. We'll build up to them naturally, once you've learnt how the operations work without them.\n",
    "\n",
    "For prerequisites, you'll need to understand how to take the derivative of a value, like $\\frac{\\delta}{\\delta x} 3x^2+2x+1=6x+2$ \n",
    "\n",
    "As well as how the chain rule works, like $\\frac{\\delta}{\\delta y}(1-y)^2=-2(1-y)$\n",
    "\n",
    "You'll also need the Python numpy and matplotlib libraries installed\n"
   ]
  },
  {
   "cell_type": "markdown",
   "metadata": {},
   "source": [
    "\n",
    "Firstly, we'll be writing a simple linear regression algorithm using a technique called stochastic gradient descent linear regression. We'll take an input function $y=f(x)$, and attempt to determine its gradient and y intercept by using the exact same techniques as a neural network. \n",
    "\n",
    "We'll do this first example without any matricies, so you can develop an intuitive understanding of how everything fits together. \n",
    "\n",
    "Let's start by importing the necessary libraries and setting our seed to ensure any changes to our results are because of changes to the algorithm instead of luck"
   ]
  },
  {
   "cell_type": "code",
   "execution_count": 45,
   "metadata": {},
   "outputs": [],
   "source": [
    "import numpy as np\n",
    "import matplotlib.pyplot as plt\n",
    "\n",
    "np.random.seed(0)"
   ]
  },
  {
   "cell_type": "markdown",
   "metadata": {},
   "source": [
    "Next, we'll plot a series of scattered points following a line of best fit by defining y=mx+c then adding some noise to create a realistic cluster of values, like how real world measurements also have variance "
   ]
  },
  {
   "cell_type": "code",
   "execution_count": 46,
   "metadata": {},
   "outputs": [],
   "source": [
    "# y = mx + c\n",
    "true_m = 0.4\n",
    "true_c = 2\n",
    "\n",
    "start = 0\n",
    "end = 20\n",
    "N = 50\n",
    "x_values = np.linspace(start,end,N)"
   ]
  },
  {
   "cell_type": "markdown",
   "metadata": {},
   "source": [
    "Now let's inspect $x\\_values$ so we know what we're working with - always check your data like this, you need to know how data is structured to work on it. We can see it's a series of $N$ equally distributed points from $start$ to $end$. We always use $N$ to represent the number of data points in a dataset / batch, so be sure to look out for it "
   ]
  },
  {
   "cell_type": "code",
   "execution_count": 47,
   "metadata": {},
   "outputs": [
    {
     "data": {
      "text/plain": [
       "array([ 0.        ,  0.40816327,  0.81632653,  1.2244898 ,  1.63265306,\n",
       "        2.04081633,  2.44897959,  2.85714286,  3.26530612,  3.67346939,\n",
       "        4.08163265,  4.48979592,  4.89795918,  5.30612245,  5.71428571,\n",
       "        6.12244898,  6.53061224,  6.93877551,  7.34693878,  7.75510204,\n",
       "        8.16326531,  8.57142857,  8.97959184,  9.3877551 ,  9.79591837,\n",
       "       10.20408163, 10.6122449 , 11.02040816, 11.42857143, 11.83673469,\n",
       "       12.24489796, 12.65306122, 13.06122449, 13.46938776, 13.87755102,\n",
       "       14.28571429, 14.69387755, 15.10204082, 15.51020408, 15.91836735,\n",
       "       16.32653061, 16.73469388, 17.14285714, 17.55102041, 17.95918367,\n",
       "       18.36734694, 18.7755102 , 19.18367347, 19.59183673, 20.        ])"
      ]
     },
     "execution_count": 47,
     "metadata": {},
     "output_type": "execute_result"
    }
   ],
   "source": [
    "x_values"
   ]
  },
  {
   "cell_type": "markdown",
   "metadata": {},
   "source": [
    "Now we'll put all of those values through the equation defined above and add some noise."
   ]
  },
  {
   "cell_type": "code",
   "execution_count": 48,
   "metadata": {},
   "outputs": [],
   "source": [
    "# y = mx + c\n",
    "true_y = true_m * x_values + true_c\n",
    "\n",
    "# generating random noise \n",
    "std_dev = 0.5  # controls the spread\n",
    "noise = np.random.normal(0, std_dev, size=N) # generates N points of normally distributed noise \n",
    "y_noisy = true_y + noise"
   ]
  },
  {
   "cell_type": "markdown",
   "metadata": {},
   "source": [
    "Now we have some data to predict, let's inspect it using matplotlib"
   ]
  },
  {
   "cell_type": "code",
   "execution_count": 51,
   "metadata": {},
   "outputs": [
    {
     "data": {
      "image/png": "[encoded data removed]",
      "text/plain": [
       "<Figure size 640x480 with 1 Axes>"
      ]
     },
     "metadata": {},
     "output_type": "display_data"
    }
   ],
   "source": [
    "# define our plot\n",
    "fig,ax = plt.subplots()\n",
    "\n",
    "#Formatting \n",
    "ax.set_title('Data')\n",
    "ax.set_xlabel('x')\n",
    "ax.set_ylabel('y')\n",
    "ax.grid()\n",
    "\n",
    "ax.set_aspect('equal') # Set aspect ratio for equal unit scaling\n",
    "\n",
    "\n",
    "# plotting the data with noise as a scatter plot\n",
    "ax.scatter(x_values,y_noisy,label='Noisy values')\n",
    "# plotting the expected line as a translucent blue line\n",
    "ax.plot(x_values,true_y,label='True line',alpha=0.5)\n",
    "\n",
    "ax.legend() # do this after adding your labels or else it'll only show a blank legend!\n",
    "plt.show()"
   ]
  },
  {
   "cell_type": "markdown",
   "metadata": {},
   "source": [
    "This all looks good, so now we can get to work writing a model to predict the true line using only the noisy input data.\n",
    "\n",
    "First, a quick definition:\n",
    "- loss function : a function which calculates a numerical representation of how (in)correct a model's answer is. The bigger the error, the bigger the loss\n",
    "\n",
    "A neural network is just a big mathematical function. The key principle of artificial neural networks is to feed the model a series of inputs we know the answers for, compare its output to the expected value, and then use some clever calculus to shift its internal values such that it produces a (hopefully) more correct answer next time. \n",
    "\n",
    "If we can quantify how wrong our model is using a loss function, then we can take the derivatives $\\frac{\\delta \\text{loss}}{\\delta m}$ and $\\frac{\\delta \\text{loss}}{\\delta c}$ to find which direction to move each value in to reduce the loss!"
   ]
  },
  {
   "cell_type": "markdown",
   "metadata": {},
   "source": []
  },
  {
   "cell_type": "markdown",
   "metadata": {},
   "source": [
    "But how do we calculate $\\frac{\\delta \\text{loss}}{\\delta m}$ and $\\frac{\\delta \\text{loss}}{\\delta c}$? We'll start with $\\frac{\\delta \\text{loss}}{\\delta m}$, as you'll soon see its answer takes us to $\\frac{\\delta \\text{loss}}{\\delta c}$ as well.\n",
    "\n",
    "First, we'll need to define a loss function. A popular choice in beginner tutorials is Mean Squared Error, as it's easy to take the derivative of and performs well as the square harshly punishes large errors. It is calculated by averaging the square of the difference between each expected (true) and predicted value, or more formally \n",
    "\n",
    "$$MSE = \\frac{1}{N}(\\hat{Y} - Y)^2$$ \n",
    "where $\\hat{Y}$ is the expected value and $Y$ is the value our model predicted. "
   ]
  },
  {
   "cell_type": "code",
   "execution_count": null,
   "metadata": {},
   "outputs": [],
   "source": [
    "# MSE in code\n",
    "def squared_error(y_true,y_pred):\n",
    "    return (y_true - y_pred)**2\n",
    "\n",
    "def mean_squared_error(y_true,y_pred):\n",
    "    return np.mean(squared_error(y_true,y_pred))"
   ]
  },
  {
   "cell_type": "markdown",
   "metadata": {},
   "source": [
    "Why have we broken this down into two functions?\n",
    "\n",
    "Most tutorials fail to distinguish between measures which are useful for humans and measures which are useful for robots.\n",
    "\n",
    "MSE is lovely for humans, as it's a single number which gets lower the better our model does. But our algorithm needs to know which direction to move every prediction in, not just the average of all predictions. That's why, when calculating MSE, we break it down into squared error (for the computer) and mean squared error (for us fleshy humans)"
   ]
  },
  {
   "cell_type": "markdown",
   "metadata": {},
   "source": [
    "We'll take the derivative of the squared error with respect to our model's predictions, or more formally $ \\frac{\\delta MSE(\\hat{Y} - Y)}{\\delta Y}$\n",
    "\n",
    "Solving $\\frac{\\delta }{\\delta Y}(\\hat{Y} - Y)^2$ will require the chain rule. If you're not familiar with the chain rule, please study it briefly first. \n",
    "\n",
    "As a reminder, for $f(g(Y))$, $\\frac{\\delta }{\\delta Y}f(g(Y)) = \\frac{\\delta f(g(Y))}{\\delta g(Y)} \\times \\frac{\\delta g(Y)}{\\delta Y}$\n",
    "\n",
    "We can write $f(u)$ as $u^2$, where $u=(\\hat{Y} - Y)$ and $g(Y)$ as $(\\hat{Y} - Y)$. \n",
    "\n",
    "The derivative of $\\frac{\\delta}{\\delta u}f(u) = \\frac{\\delta }{\\delta u} u^2 = 2u$\n",
    "\n",
    "And the derivative of $\\frac{\\delta }{\\delta Y}g(Y) = \\frac{\\delta }{\\delta Y} (\\hat{Y} - Y)=-1$\n",
    "\n",
    "Multiply them together to get $$\\frac{\\delta }{\\delta Y}f(g(Y)) = \\frac{\\delta f(g(Y))}{\\delta g(Y)} \\times \\frac{\\delta g(Y)}{\\delta Y} = 2u \\times -1$$\n",
    "\n",
    "Then substitute $u=(\\hat{Y} - Y)$ to get $$2u \\times -1 = 2(\\hat{Y} - Y) \\times -1 = -2(\\hat{Y} - Y)$$\n",
    "\n",
    "And there we have it! $$\\frac{\\delta }{\\delta Y}(\\hat{Y} - Y)^2 = -2(\\hat{Y} - Y)$$\n"
   ]
  },
  {
   "cell_type": "markdown",
   "metadata": {},
   "source": [
    "Let's put that into code."
   ]
  },
  {
   "cell_type": "code",
   "execution_count": null,
   "metadata": {},
   "outputs": [
    {
     "name": "stdout",
     "output_type": "stream",
     "text": [
      "\n"
     ]
    }
   ],
   "source": [
    "def squared_error_derivative(y_true, y_pred):\n",
    "    return -2*(y_true - y_pred) \n"
   ]
  },
  {
   "cell_type": "markdown",
   "metadata": {},
   "source": [
    "Note the naming convention! I always get tripped up trying to remember abstract names like loss and loss derivative, so I prefer to have exactly what is a derivative of what written out. "
   ]
  },
  {
   "cell_type": "markdown",
   "metadata": {},
   "source": []
  }
 ],
 "metadata": {
  "kernelspec": {
   "display_name": ".venv",
   "language": "python",
   "name": "python3"
  },
  "language_info": {
   "codemirror_mode": {
    "name": "ipython",
    "version": 3
   },
   "file_extension": ".py",
   "mimetype": "text/x-python",
   "name": "python",
   "nbconvert_exporter": "python",
   "pygments_lexer": "ipython3",
   "version": "3.11.4"
  }
 },
 "nbformat": 4,
 "nbformat_minor": 2
}
